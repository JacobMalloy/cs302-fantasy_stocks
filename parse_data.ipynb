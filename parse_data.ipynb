{
 "cells": [
  {
   "cell_type": "code",
   "execution_count": 2,
   "metadata": {},
   "outputs": [],
   "source": [
    "import pandas as pd"
   ]
  },
  {
   "cell_type": "markdown",
   "metadata": {},
   "source": [
    "Read in one week worth of data from csv file."
   ]
  },
  {
   "cell_type": "code",
   "execution_count": 7,
   "metadata": {},
   "outputs": [],
   "source": [
    "df =pd.read_csv(\"./data/2020/week1.csv\")"
   ]
  },
  {
   "cell_type": "markdown",
   "metadata": {},
   "source": [
    "Demonstrate getting the ppr and standard points of every QB. and sorting based on ppr. We need to come up with a way to value players based on these values. "
   ]
  },
  {
   "cell_type": "code",
   "execution_count": 8,
   "metadata": {},
   "outputs": [
    {
     "name": "stdout",
     "output_type": "stream",
     "text": [
      "                  Player  PPRFantasyPoints  StandardFantasyPoints\n",
      "173       Russell Wilson             31.78                  31.78\n",
      "616        Aaron Rodgers             30.76                  30.76\n",
      "191           Josh Allen             28.18                  28.18\n",
      "723        Lamar Jackson             27.50                  27.50\n",
      "1114        Kyler Murray             26.30                  26.30\n",
      "632           Cam Newton             25.70                  25.70\n",
      "434    Mitchell Trubisky             24.28                  24.28\n",
      "85             Matt Ryan             23.90                  23.90\n",
      "1322  Ben Roethlisberger             22.06                  22.06\n",
      "72        Deshaun Watson             20.82                  20.82\n",
      "456   Gardner Minshew II             20.82                  20.82\n",
      "1024           Tom Brady             20.46                  20.46\n",
      "27       Patrick Mahomes             20.44                  20.44\n",
      "558         Kirk Cousins             19.76                  19.76\n",
      "1388      Ryan Tannehill             19.36                  19.36\n",
      "1091     Jimmy Garoppolo             19.26                  19.26\n",
      "1204        Dak Prescott             17.64                  17.64\n",
      "303    Teddy Bridgewater             17.40                  17.40\n",
      "1281        Daniel Jones             17.36                  17.36\n",
      "893           Joe Burrow             16.32                  16.32\n",
      "383     Matthew Stafford             16.18                  16.18\n",
      "523        Philip Rivers             14.82                  14.82\n",
      "1008          Drew Brees             14.40                  14.40\n",
      "803         Logan Thomas             13.70                   9.70\n",
      "314           Derek Carr             13.56                  13.56\n",
      "1364           Drew Lock             13.14                  13.14\n",
      "882         Carson Wentz             13.00                  13.00\n",
      "839       Dwayne Haskins             12.82                  12.82\n",
      "223          Sam Darnold             11.20                  11.20\n",
      "1169          Jared Goff             10.50                  10.50\n",
      "795       Baker Mayfield              9.86                   9.86\n",
      "935         Tyrod Taylor              9.02                   9.02\n",
      "992          Taysom Hill              5.22                   4.22\n",
      "700     Ryan Fitzpatrick              3.44                   3.44\n",
      "1149     Chris Streveler              0.30                   0.30\n",
      "728   Robert Griffin III              0.26                   0.26\n",
      "520      Jacoby Brissett              0.00                   0.00\n",
      "576            Tim Boyle             -0.20                  -0.20\n"
     ]
    }
   ],
   "source": [
    "df1=df[(df[\"Pos\"]==\"QB\")]\n",
    "print(df1[[\"Player\",\"PPRFantasyPoints\",\"StandardFantasyPoints\"]].sort_values(by=[\"PPRFantasyPoints\"],ascending=False))"
   ]
  }
 ],
 "metadata": {
  "interpreter": {
   "hash": "311f247725a34ddb56206971cc06249ecb27b8a49e548d694a44016d726fa948"
  },
  "kernelspec": {
   "display_name": "Python 3.9.2 64-bit ('.venv': venv)",
   "name": "python3"
  },
  "language_info": {
   "codemirror_mode": {
    "name": "ipython",
    "version": 3
   },
   "file_extension": ".py",
   "mimetype": "text/x-python",
   "name": "python",
   "nbconvert_exporter": "python",
   "pygments_lexer": "ipython3",
   "version": "3.9.2"
  },
  "orig_nbformat": 4
 },
 "nbformat": 4,
 "nbformat_minor": 2
}
