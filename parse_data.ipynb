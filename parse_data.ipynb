{
 "cells": [
  {
   "cell_type": "code",
   "execution_count": 2,
   "metadata": {},
   "outputs": [],
   "source": [
    "import pandas as pd"
   ]
  },
  {
   "cell_type": "markdown",
   "metadata": {},
   "source": [
    "Read in one week worth of data from csv file."
   ]
  },
  {
   "cell_type": "code",
   "execution_count": 3,
   "metadata": {},
   "outputs": [],
   "source": [
    "df =pd.read_csv(\"./data/2020/week1.csv\")"
   ]
  },
  {
   "cell_type": "markdown",
   "metadata": {},
   "source": [
    "Demonstrate getting the ppr and standard points of every QB. and sorting based on ppr. We need to come up with a way to value players based on these values. "
   ]
  },
  {
   "cell_type": "code",
   "execution_count": 6,
   "metadata": {},
   "outputs": [
    {
     "name": "stdout",
     "output_type": "stream",
     "text": [
      "                 Player  PPRFantasyPoints  StandardFantasyPoints\n",
      "2      Tanoh Kpassagnon               0.0                    0.0\n",
      "1052  Jason Pierre-Paul               0.0                    0.0\n",
      "915          Josh Bynes               0.0                    0.0\n",
      "918        Jordan Evans               0.0                    0.0\n",
      "923         Carl Lawson               0.0                    0.0\n",
      "...                 ...               ...                    ...\n",
      "480         Tre Herndon               0.0                    0.0\n",
      "1416       DaQuan Jones               0.0                    0.0\n",
      "716      Patrick Ricard              -0.6                   -1.6\n",
      "107     Sharrod Neasman              -1.8                   -1.8\n",
      "1030       Mike Edwards              -2.0                   -2.0\n",
      "\n",
      "[644 rows x 3 columns]\n"
     ]
    }
   ],
   "source": [
    "df1=df[(df[\"Pos\"]==\"QB\")]\n",
    "print(df1[[\"Player\",\"PPRFantasyPoints\",\"StandardFantasyPoints\"]].sort_values(by=[\"PPRFantasyPoints\"],ascending=False))"
   ]
  }
 ],
 "metadata": {
  "interpreter": {
   "hash": "311f247725a34ddb56206971cc06249ecb27b8a49e548d694a44016d726fa948"
  },
  "kernelspec": {
   "display_name": "Python 3.9.2 64-bit ('.venv': venv)",
   "name": "python3"
  },
  "language_info": {
   "codemirror_mode": {
    "name": "ipython",
    "version": 3
   },
   "file_extension": ".py",
   "mimetype": "text/x-python",
   "name": "python",
   "nbconvert_exporter": "python",
   "pygments_lexer": "ipython3",
   "version": "3.9.2"
  },
  "orig_nbformat": 4
 },
 "nbformat": 4,
 "nbformat_minor": 2
}
