{
 "cells": [
  {
   "cell_type": "code",
   "execution_count": 22,
   "source": [
    "import pandas as pd"
   ],
   "outputs": [],
   "metadata": {}
  },
  {
   "cell_type": "code",
   "execution_count": 23,
   "source": [
    "csv_files=dict()\n",
    "for year in range(1999,2021):\n",
    "    for week in range(1,18):\n",
    "        csv_files[f\"{year}-{week:02}\"]=(f\"./data/{year}/week{week}.csv\")"
   ],
   "outputs": [],
   "metadata": {}
  },
  {
   "cell_type": "code",
   "execution_count": 27,
   "source": [
    "data_frames=dict()\n",
    "for i in csv_files:\n",
    "    data_frames[i]=(pd.read_csv(csv_files[i])[[\"Player\",\"PPRFantasyPoints\",\"Pos\"]])"
   ],
   "outputs": [],
   "metadata": {}
  },
  {
   "cell_type": "code",
   "execution_count": 65,
   "source": [
    "data = dict()\n",
    "players = dict()\n",
    "for i in data_frames:\n",
    "    data[i]=dict()\n",
    "    for index, row in data_frames[i].iterrows():\n",
    "        s = row[\"Player\"]\n",
    "        players[s]=0\n",
    "        p = row[\"PPRFantasyPoints\"]\n",
    "        data[i][s]=p"
   ],
   "outputs": [],
   "metadata": {}
  },
  {
   "cell_type": "markdown",
   "source": [
    "Calculate player value upto."
   ],
   "metadata": {}
  },
  {
   "cell_type": "code",
   "execution_count": 48,
   "source": [
    "def calculateScoreto(player,upto=\"2020-17\"):\n",
    "    score =0.0\n",
    "    for i in data:\n",
    "        if i==upto:\n",
    "            break\n",
    "        score*=.8\n",
    "        if player in data[i]:\n",
    "            score += data[i][player]\n",
    "    return score\n",
    "score = calculateScoreto(\"Peyton Manning\",\"2020-07\")\n",
    "print(f\"{score:.2f}\")"
   ],
   "outputs": [
    {
     "output_type": "stream",
     "name": "stdout",
     "text": [
      "0.00\n"
     ]
    }
   ],
   "metadata": {}
  },
  {
   "cell_type": "code",
   "execution_count": 66,
   "source": [
    "for df in data:\n",
    "    if(df == \"2018-17\"):\n",
    "        break\n",
    "    for player in players:\n",
    "        players[player]*=.8\n",
    "        if player in data[df]:\n",
    "            players[player]+=data[df][player]"
   ],
   "outputs": [],
   "metadata": {}
  },
  {
   "cell_type": "code",
   "execution_count": null,
   "source": [],
   "outputs": [],
   "metadata": {}
  }
 ],
 "metadata": {
  "interpreter": {
   "hash": "77fc6a2c5444e9b6c97fdc986e4016cab817412d47ef99265af4b02d453f9dbb"
  },
  "kernelspec": {
   "name": "python3",
   "display_name": "Python 3.9.2 64-bit ('.venv': venv)"
  },
  "language_info": {
   "codemirror_mode": {
    "name": "ipython",
    "version": 3
   },
   "file_extension": ".py",
   "mimetype": "text/x-python",
   "name": "python",
   "nbconvert_exporter": "python",
   "pygments_lexer": "ipython3",
   "version": "3.9.2"
  },
  "orig_nbformat": 4
 },
 "nbformat": 4,
 "nbformat_minor": 2
}