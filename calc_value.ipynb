{
 "cells": [
  {
   "cell_type": "code",
   "execution_count": 1,
   "metadata": {},
   "outputs": [],
   "source": [
    "import pandas as pd"
   ]
  },
  {
   "cell_type": "code",
   "execution_count": 2,
   "metadata": {},
   "outputs": [],
   "source": [
    "csv_files=dict()\n",
    "for year in range(1999,2021):\n",
    "    for week in range(1,18):\n",
    "        csv_files[f\"{year}-{week:02}\"]=(f\"./data/{year}/week{week}.csv\")"
   ]
  },
  {
   "cell_type": "code",
   "execution_count": 3,
   "metadata": {},
   "outputs": [],
   "source": [
    "data_frames=dict()\n",
    "for i in csv_files:\n",
    "    data_frames[i]=(pd.read_csv(csv_files[i])[[\"Player\",\"PPRFantasyPoints\",\"Pos\"]])"
   ]
  },
  {
   "cell_type": "code",
   "execution_count": 4,
   "metadata": {},
   "outputs": [],
   "source": [
    "data = dict()\n",
    "players = dict()\n",
    "for i in data_frames:\n",
    "    data[i]=dict()\n",
    "    for index, row in data_frames[i].iterrows():\n",
    "        s = row[\"Player\"]\n",
    "        players[s]=0\n",
    "        p = row[\"PPRFantasyPoints\"]\n",
    "        data[i][s]=p"
   ]
  },
  {
   "cell_type": "markdown",
   "metadata": {},
   "source": [
    "Calculate player value upto."
   ]
  },
  {
   "cell_type": "code",
   "execution_count": 16,
   "metadata": {},
   "outputs": [
    {
     "name": "stdout",
     "output_type": "stream",
     "text": [
      "94.40\n"
     ]
    },
    {
     "data": {
      "image/png": "[encoded data removed]",
      "text/plain": [
       "<Figure size 432x288 with 1 Axes>"
      ]
     },
     "metadata": {
      "needs_background": "light"
     },
     "output_type": "display_data"
    }
   ],
   "source": [
    "import matplotlib.pylab as plt\n",
    "def calculateScoreto(player,upto=\"2020-17\"):\n",
    "    playerData=dict()\n",
    "    score =0.0\n",
    "    for i in data:\n",
    "        if i==upto:\n",
    "            break\n",
    "        score*=.8\n",
    "        if player in data[i]:\n",
    "            score += data[i][player]\n",
    "        if score<0:\n",
    "            score =0\n",
    "        playerData[i]=score\n",
    "    return (score,playerData)\n",
    "score, playerData = calculateScoreto(\"\")\n",
    "print(f\"{score:.2f}\")\n",
    "lists = sorted(playerData.items()) # sorted by key, return a list of tuples\n",
    "\n",
    "x, y = zip(*lists) # unpack a list of pairs into two tuples\n",
    "\n",
    "plt.plot(x, y)\n",
    "plt.show()"
   ]
  },
  {
   "cell_type": "code",
   "execution_count": null,
   "metadata": {},
   "outputs": [],
   "source": [
    "for df in data:\n",
    "    if(df == \"2018-17\"):\n",
    "        break\n",
    "    for player in players:\n",
    "        players[player]*=.8\n",
    "        if player in data[df]:\n",
    "            players[player]+=data[df][player]"
   ]
  },
  {
   "cell_type": "code",
   "execution_count": 22,
   "metadata": {},
   "outputs": [
    {
     "name": "stdout",
     "output_type": "stream",
     "text": [
      "53092.60\n"
     ]
    },
    {
     "data": {
      "image/png": "[encoded data removed]",
      "text/plain": [
       "<Figure size 432x288 with 1 Axes>"
      ]
     },
     "metadata": {
      "needs_background": "light"
     },
     "output_type": "display_data"
    }
   ],
   "source": [
    "\n",
    "def calc_total_market(upto=\"2020-17\"):\n",
    "    playerData=dict()\n",
    "    score =0.0\n",
    "    for i in data:\n",
    "        if i==upto:\n",
    "            break\n",
    "        score*=.95\n",
    "        score+=sum(data[i].values())\n",
    "        if score<0:\n",
    "            score =0\n",
    "        playerData[i]=score\n",
    "    return (score,playerData)\n",
    "score, playerData = calc_total_market()\n",
    "print(f\"{score:.2f}\")\n",
    "lists = sorted(playerData.items()) # sorted by key, return a list of tuples\n",
    "\n",
    "x, y = zip(*lists) # unpack a list of pairs into two tuples\n",
    "\n",
    "plt.plot(x, y)\n",
    "plt.show()"
   ]
  }
 ],
 "metadata": {
  "interpreter": {
   "hash": "77fc6a2c5444e9b6c97fdc986e4016cab817412d47ef99265af4b02d453f9dbb"
  },
  "kernelspec": {
   "display_name": "Python 3.9.2 64-bit ('.venv': venv)",
   "name": "python3"
  },
  "language_info": {
   "codemirror_mode": {
    "name": "ipython",
    "version": 3
   },
   "file_extension": ".py",
   "mimetype": "text/x-python",
   "name": "python",
   "nbconvert_exporter": "python",
   "pygments_lexer": "ipython3",
   "version": "3.7.3"
  },
  "orig_nbformat": 4
 },
 "nbformat": 4,
 "nbformat_minor": 2
}
